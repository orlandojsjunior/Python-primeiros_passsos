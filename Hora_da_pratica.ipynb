{
  "cells": [
    {
      "cell_type": "markdown",
      "metadata": {
        "colab_type": "text",
        "id": "view-in-github"
      },
      "source": [
        "<a href=\"https://colab.research.google.com/github/orlandojsjunior/Python_para_Data_Science/blob/main/Hora_da_pratica.ipynb\" target=\"_parent\"><img src=\"https://colab.research.google.com/assets/colab-badge.svg\" alt=\"Open In Colab\"/></a>"
      ]
    },
    {
      "cell_type": "markdown",
      "metadata": {
        "id": "_kwAaQ36gLQ1"
      },
      "source": [
        "# Sobre o notebook\n",
        "\n",
        "A \"hora da prática\" é uma atividade do curso de Python para Data Science da Alura que contém diversos desafios envolvendo os aprendizados de cada aula.\n",
        "\n",
        "O notebook \"hora da pratica\" é um notebook construído com espaço para as células dos desafios propostos no curso, com ele você tem espaço para construir e executar suas soluções"
      ]
    },
    {
      "cell_type": "markdown",
      "metadata": {
        "id": "Mc-KN0dA0Z83"
      },
      "source": [
        "## Aula 1 - Introdução ao Python"
      ]
    },
    {
      "cell_type": "markdown",
      "metadata": {
        "id": "l5eLWf0W0ikn"
      },
      "source": [
        "### Questão 1\n",
        "\n",
        "Imprima a frase `Escola de Dados da Alura!`"
      ]
    },
    {
      "cell_type": "code",
      "execution_count": null,
      "metadata": {
        "id": "5pllxJ0h0-yA",
        "outputId": "6eda2777-1162-4ef9-b6d3-bdc088b57d5c"
      },
      "outputs": [
        {
          "name": "stdout",
          "output_type": "stream",
          "text": [
            "Escola de Dados da Alura!\n"
          ]
        }
      ],
      "source": [
        "print('Escola de Dados da Alura!')"
      ]
    },
    {
      "cell_type": "markdown",
      "metadata": {
        "id": "tQdX90Ue03c7"
      },
      "source": [
        "### Questão 2\n",
        "Imprima na tela seu nome e seu sobrenome seguindo a estrutura abaixo:\n",
        "```\n",
        "Nome: [seu nome]\n",
        "Sobrenome: [seu sobrenome]\n",
        "```\n"
      ]
    },
    {
      "cell_type": "code",
      "execution_count": null,
      "metadata": {
        "id": "RVw5iKn20_Ps",
        "outputId": "ab569ce9-37d8-4abe-a8ca-db2866660e3b"
      },
      "outputs": [
        {
          "name": "stdout",
          "output_type": "stream",
          "text": [
            "Nome: Orlando\n",
            "Sobrenome: Junior\n"
          ]
        }
      ],
      "source": [
        "print('Nome: Orlando')\n",
        "print('Sobrenome: Junior')"
      ]
    },
    {
      "cell_type": "markdown",
      "metadata": {
        "id": "gfg-aiip03vC"
      },
      "source": [
        "### Questão 3\n",
        "Imprima o seu primeiro nome letra a letra. Por exemplo, nome é Mirla, então eu obtenho a seguinte saída:\n",
        "```\n",
        "M\n",
        "I\n",
        "R\n",
        "L\n",
        "A\n",
        "```\n"
      ]
    },
    {
      "cell_type": "code",
      "execution_count": null,
      "metadata": {
        "id": "v5bkrgf60_qx",
        "outputId": "79b90b1e-41fa-4ce6-fc58-cd809451c24e"
      },
      "outputs": [
        {
          "name": "stdout",
          "output_type": "stream",
          "text": [
            "O\n",
            "R\n",
            "L\n",
            "A\n",
            "N\n",
            "D\n",
            "O\n"
          ]
        }
      ],
      "source": [
        "nome = 'ORLANDO'\n",
        "\n",
        "for letra in nome.upper():\n",
        "  print(letra)\n"
      ]
    },
    {
      "cell_type": "markdown",
      "metadata": {
        "id": "oadrJbl704MM"
      },
      "source": [
        "### Questão 4\n",
        "Imprima o dia do seu nascimento em formato `dia mês ano`. Os valores de dia e ano não podem estar entre aspas. O formato deve estar como no exemplo, supondo uma data de aniversário dia 28 de fevereiro de 2003:\n",
        "```\n",
        "28 fevereiro 2003\n",
        "```"
      ]
    },
    {
      "cell_type": "code",
      "execution_count": null,
      "metadata": {
        "id": "cx0KSsrq1ALD",
        "outputId": "f7a94457-c3d1-448c-e8b6-443421215b33"
      },
      "outputs": [
        {
          "name": "stdout",
          "output_type": "stream",
          "text": [
            "1 novembro 1979\n"
          ]
        }
      ],
      "source": [
        "print(1, 'novembro', 1979)"
      ]
    },
    {
      "cell_type": "markdown",
      "metadata": {
        "id": "3RgyMaan04TD"
      },
      "source": [
        "### Questão 5\n",
        "Imprima em um único print o atual ano que você está fazendo esse curso, o valor do ano deve ser um dado numérico. A saída do print deve ser a seguinte:\n",
        "```\n",
        "Ano atual: [ano]\n",
        "```\n"
      ]
    },
    {
      "cell_type": "code",
      "execution_count": null,
      "metadata": {
        "id": "UN77EfQ2d36Y",
        "outputId": "f64fd6b7-dfde-4f5f-9f2a-57c757746623"
      },
      "outputs": [
        {
          "name": "stdout",
          "output_type": "stream",
          "text": [
            "Ano atual: 2024\n"
          ]
        }
      ],
      "source": [
        "print('Ano atual:',2024)"
      ]
    },
    {
      "cell_type": "markdown",
      "metadata": {
        "id": "D9e3FqhO1S3X"
      },
      "source": [
        "## Aula 2 - Manipulando dados no Python"
      ]
    },
    {
      "cell_type": "markdown",
      "metadata": {
        "id": "n6o7C1Ze2cRe"
      },
      "source": [
        "### Coleta e amostragem de dados"
      ]
    },
    {
      "cell_type": "markdown",
      "metadata": {
        "id": "sRneWag9PV5Q"
      },
      "source": [
        "#### Questão 1\n",
        "Crie um programa que solicite à pessoa usuária digitar seu nome, e imprima “Olá, [nome]!”."
      ]
    },
    {
      "cell_type": "code",
      "execution_count": null,
      "metadata": {
        "id": "dbX1fKqy2HnE",
        "outputId": "4831be8f-58b5-4828-cda5-289780029b80"
      },
      "outputs": [
        {
          "name": "stdout",
          "output_type": "stream",
          "text": [
            "Olá, orlando.\n"
          ]
        }
      ],
      "source": [
        "nome = input('Digte seu nome: ')\n",
        "print(f\"Olá, {nome}.\")"
      ]
    },
    {
      "cell_type": "markdown",
      "metadata": {
        "id": "BJ1SznEp70d5"
      },
      "source": [
        "#### Questão 2\n",
        "Crie um programa que solicite à pessoa usuária digitar seu nome e idade, e imprima “Olá, [nome], você tem [idade] anos.”."
      ]
    },
    {
      "cell_type": "code",
      "execution_count": null,
      "metadata": {
        "id": "jKz-0Sq8PFkp",
        "outputId": "d492811f-9870-4ebb-ab07-885df09a2001"
      },
      "outputs": [
        {
          "name": "stdout",
          "output_type": "stream",
          "text": [
            "Olá, orlando, voce tem 44 anos.\n"
          ]
        }
      ],
      "source": [
        "nome = input('Digite seu nome: ')\n",
        "idade = int(input('Digite sua idade: '))\n",
        "print(f\"Olá, {nome}, voce tem {idade} anos.\")"
      ]
    },
    {
      "cell_type": "markdown",
      "metadata": {
        "id": "2T0jNYZt70aa"
      },
      "source": [
        "#### Questão 3\n",
        "Crie um programa que solicite à pessoa usuária digitar seu nome, idade e altura em metros, e imprima “Olá, [nome], você tem [idade] anos e mede [altura] metros!”."
      ]
    },
    {
      "cell_type": "code",
      "execution_count": null,
      "metadata": {
        "id": "pI4kHNzTPIXh",
        "outputId": "880edc4c-61db-422c-8ce7-a3bd0092fd1e"
      },
      "outputs": [
        {
          "name": "stdout",
          "output_type": "stream",
          "text": [
            "Olá, orlando voce tem 44 anos e mede 1.82 metros.\n"
          ]
        }
      ],
      "source": [
        "nome = input('Digite seu nome: ')\n",
        "idade = int(input('Digite sua idade: '))\n",
        "altura = float(input('Digite sua altura: '))\n",
        "print(f'Olá, {nome} voce tem {idade} anos e mede {altura:.2f} metros.')"
      ]
    },
    {
      "cell_type": "markdown",
      "metadata": {
        "id": "mEBFwKkC70KP"
      },
      "source": [
        "### Calculadora com operadores"
      ]
    },
    {
      "cell_type": "markdown",
      "metadata": {
        "id": "H-IV1oAPPSqK"
      },
      "source": [
        "#### Questão 1\n",
        "\n",
        "Crie um programa que solicite dois valores numéricos à pessoa usuária e imprima a soma dos dois valores."
      ]
    },
    {
      "cell_type": "code",
      "execution_count": null,
      "metadata": {
        "id": "Zb0W84sy8rnp",
        "outputId": "82e8a309-cace-46a0-c05d-a46eea9a2c73"
      },
      "outputs": [
        {
          "name": "stdout",
          "output_type": "stream",
          "text": [
            "A soma de 5 e 54 é igual a 59.\n"
          ]
        }
      ],
      "source": [
        "valor1 = int(input(\"Digite o primeiro valor: \"))\n",
        "valor2 = int(input(\"Digite o segundo valor: \"))\n",
        "\n",
        "soma = valor1 + valor2\n",
        "\n",
        "print(f\"A soma de {valor1} e {valor2} é igual a {soma}.\")\n",
        "\n"
      ]
    },
    {
      "cell_type": "markdown",
      "metadata": {
        "id": "LUoi2MOu70Em"
      },
      "source": [
        "#### Questão 2\n",
        "Crie um programa que solicite três valores numéricos à pessoa usuária e imprima a soma dos três valores."
      ]
    },
    {
      "cell_type": "code",
      "execution_count": null,
      "metadata": {
        "id": "4FYjWyBS8rDm",
        "outputId": "8f85aa87-39eb-4243-8e32-fced60b96ac5"
      },
      "outputs": [
        {
          "name": "stdout",
          "output_type": "stream",
          "text": [
            "A soma entre 1 , 2 e 3 é igual a 6.00.\n"
          ]
        }
      ],
      "source": [
        "valor1 = int(input(\"Digite o primeiro valor: \"))\n",
        "valor2 = int(input(\"Digite o segundo valor: \"))\n",
        "valor3 = int(input(\"Agora digite o terceiro valor: \"))\n",
        "\n",
        "soma = valor1 + valor2 + valor3\n",
        "\n",
        "print(f\"A soma entre {valor1} , {valor2} e {valor3} é igual a {soma:.2f}.\")\n",
        "\n"
      ]
    },
    {
      "cell_type": "markdown",
      "metadata": {
        "id": "lezGctF07z8i"
      },
      "source": [
        "#### Questão 3\n",
        "Crie um programa que solicite dois valores numéricos à pessoa usuária e imprima a subtração do primeiro pelo o segundo valor."
      ]
    },
    {
      "cell_type": "code",
      "execution_count": null,
      "metadata": {
        "id": "k0GE1z4w8p3J",
        "outputId": "45d45154-4b5c-44c4-8488-00bc843ca1c2"
      },
      "outputs": [
        {
          "name": "stdout",
          "output_type": "stream",
          "text": [
            "A subtração de 50 - 32 é 18\n"
          ]
        }
      ],
      "source": [
        "valor1 = int(input(\"Digite o primeiro valor: \"))\n",
        "valor2 = int(input(\"Digite o segundo valor: \"))\n",
        "\n",
        "subtracao = valor1 - valor2\n",
        "\n",
        "print(f'A subtração de {valor1} - {valor2} é {subtracao}')"
      ]
    },
    {
      "cell_type": "markdown",
      "metadata": {
        "id": "wwMP-dPU7zxW"
      },
      "source": [
        "#### Questão 4\n",
        "\n",
        "Crie um programa que solicite dois valores numéricos à pessoa usuária e imprima a multiplicação dos dois valores.\n"
      ]
    },
    {
      "cell_type": "code",
      "execution_count": null,
      "metadata": {
        "id": "GzFCVHfp8peZ",
        "outputId": "f46a59e4-4f57-4053-c2bb-ba7aaf36e985"
      },
      "outputs": [
        {
          "name": "stdout",
          "output_type": "stream",
          "text": [
            "A multiplicação entre 42 e 533 é: 22386\n"
          ]
        }
      ],
      "source": [
        "valor1 = int(input(\"Digite o primeiro valor: \"))\n",
        "valor2 = int(input(\"Digite o segundo valor: \"))\n",
        "\n",
        "resultado = valor1 * valor2\n",
        "\n",
        "print(f'A multiplicação entre {valor1} e {valor2} é: {resultado}')"
      ]
    },
    {
      "cell_type": "markdown",
      "metadata": {
        "id": "9kxyHxUo7zRD"
      },
      "source": [
        "#### Questão 5\n",
        "\n",
        "Crie um programa que solicite dois valores numéricos, um numerador e um denominador, e realize a divisão entre os dois valores. Deixe claro que o valor do denominador não pode ser `0`.\n"
      ]
    },
    {
      "cell_type": "code",
      "execution_count": null,
      "metadata": {
        "id": "ytJ8l5KH8ozc",
        "outputId": "ce86c2fa-af0a-4979-89ca-9f5893c8ddb2"
      },
      "outputs": [
        {
          "name": "stdout",
          "output_type": "stream",
          "text": [
            "O resultado da divisão de 10 por 6 é 1.6666666666666667\n"
          ]
        }
      ],
      "source": [
        "numerador = int(input('Digite o numerador: '))\n",
        "denominador = int(input('Digite o denominador (OBS: o valor não pode ser nulo): '))\n",
        "\n",
        "resultado = numerador / denominador\n",
        "\n",
        "print(f\"O resultado da divisão de {numerador} por {denominador} é {resultado}\")\n"
      ]
    },
    {
      "cell_type": "markdown",
      "metadata": {
        "id": "zkUSBTQq8Hxt"
      },
      "source": [
        "#### Questão 6\n",
        "\n",
        "Crie um programa que solicite dois valores numéricos, um operador e uma potência, e realize a exponenciação entre esses dois valores.\n"
      ]
    },
    {
      "cell_type": "code",
      "execution_count": null,
      "metadata": {
        "id": "RPj36jq08oZp",
        "outputId": "3a2cced8-b7aa-4ff8-f6ec-0bac07fd3eb9"
      },
      "outputs": [
        {
          "name": "stdout",
          "output_type": "stream",
          "text": [
            "O resultado de 8 elevado a 6 é 262144\n"
          ]
        }
      ],
      "source": [
        "operador = int(input(\"Digite o valor da base: \"))\n",
        "expoente = int(input(\"Digite o valor do expoente: \"))\n",
        "\n",
        "\n",
        "resultado = operador ** expoente\n",
        "\n",
        "\n",
        "print(f\"O resultado de {operador} elevado a {expoente} é {resultado}\")\n"
      ]
    },
    {
      "cell_type": "markdown",
      "metadata": {
        "id": "yiunIusZ8Huj"
      },
      "source": [
        "#### Questão 7\n",
        "Crie um programa que solicite dois valores numéricos, um numerador e um denominador e realize a divisão inteira entre os dois valores. Deixe claro que o valor do denominador não pode ser `0`."
      ]
    },
    {
      "cell_type": "code",
      "execution_count": null,
      "metadata": {
        "id": "UHK8xITf8oCg",
        "outputId": "a99f8483-e67e-4da7-a2fe-49b62e46665f"
      },
      "outputs": [
        {
          "name": "stdout",
          "output_type": "stream",
          "text": [
            "O resultado da divisão de 88 por 99 é 0\n"
          ]
        }
      ],
      "source": [
        "numerador = int(input('Digite o numerador: '))\n",
        "denominador = int(input('Digite o denominador (OBS: o valor não pode ser nulo): '))\n",
        "\n",
        "resultado = numerador // denominador\n",
        "\n",
        "print(f\"O resultado da divisão de {numerador} por {denominador} é {resultado}\")"
      ]
    },
    {
      "cell_type": "markdown",
      "metadata": {
        "id": "z_D_JiLX8Hra"
      },
      "source": [
        "#### Questão 8\n",
        "\n",
        "Crie um programa que solicite dois valores numéricos, um numerador e um denominador, e retorne o resto da divisão entre os dois valores. Deixe claro que o valor do denominador não pode ser `0`."
      ]
    },
    {
      "cell_type": "code",
      "execution_count": null,
      "metadata": {
        "id": "EWGJeukO8nqx",
        "outputId": "26d56e14-462a-4503-ab80-bfa9825ecc05"
      },
      "outputs": [
        {
          "name": "stdout",
          "output_type": "stream",
          "text": [
            "O resto da divisão de 10 por 3 é 1\n"
          ]
        }
      ],
      "source": [
        "numerador = int(input(\"Digite o numerador: \"))\n",
        "denominador = int(input('Digite o denominador (OBS: o valor não pode ser nulo): '))\n",
        "\n",
        "resto = numerador % denominador\n",
        "\n",
        "print(f\"O resto da divisão de {numerador} por {denominador} é {resto}\")\n"
      ]
    },
    {
      "cell_type": "markdown",
      "metadata": {
        "id": "RDRajNkU8N8N"
      },
      "source": [
        "#### Questão 9\n",
        "\n",
        "Crie um código que solicita 3 notas de um estudante e imprima a média das notas."
      ]
    },
    {
      "cell_type": "code",
      "execution_count": null,
      "metadata": {
        "id": "PbdTmcLr0le9",
        "outputId": "e5d901b2-4775-47b4-bc0a-c0840812e033"
      },
      "outputs": [
        {
          "name": "stdout",
          "output_type": "stream",
          "text": [
            "A média das notas é: 7.00\n"
          ]
        }
      ],
      "source": [
        "nota1 = float(input(\"Digite a primeira nota: \"))\n",
        "nota2 = float(input(\"Digite a segunda nota: \"))\n",
        "nota3 = float(input(\"Digite a terceira nota: \"))\n",
        "\n",
        "media = (nota1 + nota2 + nota3) / 3\n",
        "\n",
        "print(f\"A média das notas é: {media:.2f}\")\n"
      ]
    },
    {
      "cell_type": "markdown",
      "metadata": {
        "id": "d7fjkne58N21"
      },
      "source": [
        "#### Questão 10\n",
        "\n",
        "Crie um código que calcule e imprima a média ponderada dos números 5, 12, 20 e 15 com pesos respectivamente iguais a 1, 2, 3 e 4."
      ]
    },
    {
      "cell_type": "code",
      "execution_count": null,
      "metadata": {
        "id": "BongDRU-0lfE",
        "outputId": "797d75d9-d68a-40cd-9d7e-049ebccb9594"
      },
      "outputs": [
        {
          "name": "stdout",
          "output_type": "stream",
          "text": [
            "Média 14.9.\n"
          ]
        }
      ],
      "source": [
        "media_ponderada = (5*1 + 12*2 + 20*3 + 15*4) / (1+2+3+4)\n",
        "\n",
        "print(f'Média {media_ponderada}.')"
      ]
    },
    {
      "cell_type": "markdown",
      "metadata": {
        "id": "GNmbX1OU8N0V"
      },
      "source": [
        "### Editando textos"
      ]
    },
    {
      "cell_type": "markdown",
      "metadata": {
        "id": "6wZ85mCsRCV0"
      },
      "source": [
        "#### Questão 1\n",
        "\n",
        "Crie uma variável chamada “`frase`” e atribua a ela uma string de sua escolha. Em seguida, imprima a frase na tela."
      ]
    },
    {
      "cell_type": "code",
      "execution_count": null,
      "metadata": {
        "id": "eRqr_gh-8mFy",
        "outputId": "a23e5f70-4620-4d4d-a09b-50d983973998"
      },
      "outputs": [
        {
          "name": "stdout",
          "output_type": "stream",
          "text": [
            "Olá Orlando!\n"
          ]
        }
      ],
      "source": [
        "frase = 'Olá Orlando!'\n",
        "print(frase)"
      ]
    },
    {
      "cell_type": "markdown",
      "metadata": {
        "id": "Aac17z-18Nwv"
      },
      "source": [
        "#### Questão 2\n",
        "Crie um código que solicite uma frase e depois imprima a frase na tela."
      ]
    },
    {
      "cell_type": "code",
      "execution_count": null,
      "metadata": {
        "id": "8zfE2hh98lb0",
        "outputId": "81738fb8-5360-4bb0-a0cd-51d9d72ba4a2"
      },
      "outputs": [
        {
          "name": "stdout",
          "output_type": "stream",
          "text": [
            "eu estudo na ALURA\n"
          ]
        }
      ],
      "source": [
        "frase = input('Digite uma frase: ')\n",
        "print(frase)"
      ]
    },
    {
      "cell_type": "markdown",
      "metadata": {
        "id": "DXVzqpN58Ntr"
      },
      "source": [
        "#### Questão 3\n",
        "\n",
        "Crie um código que solicite uma frase à pessoa usuária e imprima a mesma frase digitada mas com todas as letras maiúsculas."
      ]
    },
    {
      "cell_type": "code",
      "execution_count": null,
      "metadata": {
        "id": "d0VzoYP68k-I",
        "outputId": "f659da33-3e67-4e15-a2bf-90a81ae72301"
      },
      "outputs": [
        {
          "name": "stdout",
          "output_type": "stream",
          "text": [
            "ORLANDO JUNIOR\n"
          ]
        }
      ],
      "source": [
        "frase = input('Digite uma frase qualquer com todas as letras minusculas: ')\n",
        "\n",
        "print(frase.upper())\n"
      ]
    },
    {
      "cell_type": "markdown",
      "metadata": {
        "id": "I12VeNPK8Nqb"
      },
      "source": [
        "#### Questão 4\n",
        "\n",
        "Crie um código que solicite uma frase à pessoa usuária e imprima a mesma frase digitada mas com todas as letras minúsculas."
      ]
    },
    {
      "cell_type": "code",
      "execution_count": null,
      "metadata": {
        "id": "KD8rNy2K8kox",
        "outputId": "2d5083ef-4c1a-4109-d302-71d61b433c45"
      },
      "outputs": [
        {
          "name": "stdout",
          "output_type": "stream",
          "text": [
            "orlando junbior\n"
          ]
        }
      ],
      "source": [
        "frase = input('Digite uma frase com todas as letras MAIUSCULA: ')\n",
        "\n",
        "print(frase.lower())"
      ]
    },
    {
      "cell_type": "markdown",
      "metadata": {
        "id": "cRqngSE48Nog"
      },
      "source": [
        "#### Questão 5\n",
        "\n",
        "Crie uma variável chamada “`frase`” e atribua a ela uma string de sua escolha. Em seguida, imprima a frase sem espaços em branco no início e no fim."
      ]
    },
    {
      "cell_type": "code",
      "execution_count": null,
      "metadata": {
        "id": "aSCpdF-o8kBs",
        "outputId": "ff166775-4214-48ae-c442-af11416ee1e2"
      },
      "outputs": [
        {
          "name": "stdout",
          "output_type": "stream",
          "text": [
            "Olá Orlando!\n"
          ]
        }
      ],
      "source": [
        "frase = ' Olá Orlando!  '\n",
        "\n",
        "print(frase.strip())"
      ]
    },
    {
      "cell_type": "markdown",
      "metadata": {
        "id": "murIazpQ8Nkv"
      },
      "source": [
        "#### Questão 6\n",
        "\n",
        "Crie um código que solicite uma frase à pessoa usuária e imprima a mesma frase sem espaços em branco no início e no fim."
      ]
    },
    {
      "cell_type": "code",
      "execution_count": null,
      "metadata": {
        "id": "tHunjwuG8jNq",
        "outputId": "f9f32ac1-1926-4586-9657-6d29dcb46938"
      },
      "outputs": [
        {
          "name": "stdout",
          "output_type": "stream",
          "text": [
            "orlando junior\n"
          ]
        }
      ],
      "source": [
        "frase = input('Digite uma frase com espaços em branco no início e no fim: ')\n",
        "\n",
        "print(frase.strip())"
      ]
    },
    {
      "cell_type": "markdown",
      "metadata": {
        "id": "eRxc2OeX8Nh2"
      },
      "source": [
        "#### Questão 7\n",
        "\n",
        "\n",
        "Crie um código que solicite uma frase à pessoa usuária e imprima a mesma frase sem espaços em branco no início e no fim e em letras minúsculas."
      ]
    },
    {
      "cell_type": "code",
      "execution_count": null,
      "metadata": {
        "id": "DYm0_UwS8ih6",
        "outputId": "d0880352-6295-4b2e-e4aa-9b367d7b2bc8"
      },
      "outputs": [
        {
          "name": "stdout",
          "output_type": "stream",
          "text": [
            "orlando junior\n"
          ]
        }
      ],
      "source": [
        "frase = input('Digite uma frase com espaços em branco no início e no fim e com letras MAIUSCULAS: ')\n",
        "\n",
        "print(frase.strip().lower())"
      ]
    },
    {
      "cell_type": "markdown",
      "metadata": {
        "id": "UKATLavs8NfI"
      },
      "source": [
        "#### Questão 8\n",
        "\n",
        "Crie um código que solicite uma frase à pessoa usuária e imprima a mesma frase com todas as vogais “`e`” trocadas pela letra “`f`”."
      ]
    },
    {
      "cell_type": "code",
      "execution_count": null,
      "metadata": {
        "id": "k64C5G5S8iLO",
        "outputId": "8736da96-d92d-41f2-8bb1-7439d71c5c29"
      },
      "outputs": [
        {
          "name": "stdout",
          "output_type": "stream",
          "text": [
            "orlando vocf é fxtrfmamfntf intfligfntf\n"
          ]
        }
      ],
      "source": [
        "frase = input(\"Digite uma frase que contenha a vogal “e”: \")\n",
        "\n",
        "print(frase.replace('e', 'f'))"
      ]
    },
    {
      "cell_type": "markdown",
      "metadata": {
        "id": "n_1SPchw8NdG"
      },
      "source": [
        "#### Questão 9\n",
        "\n",
        "\n",
        "Crie um código que solicite uma frase à pessoa usuária e imprima a mesma frase com todas as vogais “`a`” trocadas pela caractere  “`@`”."
      ]
    },
    {
      "cell_type": "code",
      "execution_count": null,
      "metadata": {
        "id": "msaDNm_p8h0D",
        "outputId": "641ecacb-9f34-430f-97d1-c889def32662"
      },
      "outputs": [
        {
          "name": "stdout",
          "output_type": "stream",
          "text": [
            "@gor@ é @ hor@\n"
          ]
        }
      ],
      "source": [
        "frase = input(\"Digite uma frase que contenha a vogal “a”: \")\n",
        "\n",
        "print(frase.lower().replace('a',chr(64)))"
      ]
    },
    {
      "cell_type": "markdown",
      "metadata": {
        "id": "H3sTTjqI8Naa"
      },
      "source": [
        "#### Questão 10\n",
        "\n",
        "\n",
        "Crie um código que solicite uma frase à pessoa usuária e imprima a mesma frase com todas as consoantes “`s`” trocadas pelo caractere  “`$`”."
      ]
    },
    {
      "cell_type": "code",
      "execution_count": null,
      "metadata": {
        "id": "RPBIsWT68e-1",
        "outputId": "a757a2c9-6849-49cd-acf9-a5c978cefaeb"
      },
      "outputs": [
        {
          "name": "stdout",
          "output_type": "stream",
          "text": [
            "$abado e $exta\n"
          ]
        }
      ],
      "source": [
        "frase = input(\"Digite uma frase que contenha a consoante “s”: \")\n",
        "\n",
        "print(frase.lower().replace('s',chr(36)))"
      ]
    },
    {
      "cell_type": "markdown",
      "metadata": {
        "id": "XGePe4GD2I59"
      },
      "source": [
        "## Aula 3 - Estruturas condicionais"
      ]
    },
    {
      "cell_type": "markdown",
      "metadata": {
        "id": "Pr9HTW0UHCdD"
      },
      "source": [
        "### Aquecendo na programação"
      ]
    },
    {
      "cell_type": "markdown",
      "metadata": {
        "id": "xBZHqhVg80Fy"
      },
      "source": [
        "#### Questão 1\n",
        "Escreva um programa que peça à pessoa usuária para fornecer dois números e exibir o número maior."
      ]
    },
    {
      "cell_type": "code",
      "execution_count": null,
      "metadata": {
        "id": "GJlGnzjc-xyF",
        "outputId": "8595529f-ced6-4926-828b-6d7bb89212ed"
      },
      "outputs": [
        {
          "name": "stdout",
          "output_type": "stream",
          "text": [
            "O número maior é 10\n"
          ]
        }
      ],
      "source": [
        "numero1 = int(input(\"Digite um numero qualquer: \"))\n",
        "numero2 = int(input(\"Digite outro numero qualquer: \"))\n",
        "\n",
        "if numero1 > numero2:\n",
        "    print(f\"O número maior é {numero1}\")\n",
        "else:\n",
        "    print(f\"O número maior é {numero2}\")"
      ]
    },
    {
      "cell_type": "markdown",
      "metadata": {
        "id": "H4sgN7dyHNJF"
      },
      "source": [
        "#### Questão 2\n",
        "Escreva um programa que solicite o percentual de crescimento de produção de uma empresa e informe se houve um crescimento (porcentagem positiva) ou decrescimento (porcentagem negativa)."
      ]
    },
    {
      "cell_type": "code",
      "execution_count": null,
      "metadata": {
        "id": "-2_Ry5XJ-yZW",
        "outputId": "ec3dd62c-ce4c-4606-bb22-7944d3baa59a"
      },
      "outputs": [
        {
          "name": "stdout",
          "output_type": "stream",
          "text": [
            "Houve um crescimento de produção.\n"
          ]
        }
      ],
      "source": [
        "percentual_crescimento = float(input(\"Digite o percentual de crescimento de produção da empresa: \"))\n",
        "\n",
        "if percentual_crescimento > 0:\n",
        "    print(\"Houve um crescimento de produção.\")\n",
        "elif percentual_crescimento < 0:\n",
        "    print(\"Houve um decrescimento de produção.\")\n",
        "else:\n",
        "    print(\"Não houve alteração na produção.\")\n"
      ]
    },
    {
      "cell_type": "markdown",
      "metadata": {
        "id": "a_mzNOBDHNny"
      },
      "source": [
        "#### Questão 3\n",
        "Escreva um programa que determine se uma letra fornecida pela pessoa usuária é uma vogal ou consoante."
      ]
    },
    {
      "cell_type": "code",
      "execution_count": null,
      "metadata": {
        "id": "NbgndVyg-zFJ",
        "outputId": "cfc99184-ae23-4b45-b944-8df0c725428b"
      },
      "outputs": [
        {
          "name": "stdout",
          "output_type": "stream",
          "text": [
            "A letra 'b' é uma consoante.\n"
          ]
        }
      ],
      "source": [
        "letra = input(\"Digite uma letra: \").lower()\n",
        "\n",
        "vogais = 'a e i o u'\n",
        "\n",
        "if letra in vogais:\n",
        "    print(f\"A letra '{letra}' é uma vogal.\")\n",
        "else:\n",
        "    print(f\"A letra '{letra}' é uma consoante.\")\n"
      ]
    },
    {
      "cell_type": "markdown",
      "metadata": {
        "id": "mofMRjSZHP99"
      },
      "source": [
        "#### Questão 4\n",
        "Escreva um programa que leia valores médios de preços de um modelo de carro por 3 anos consecutivos e exiba o valor mais alto e mais baixo entre esses três anos."
      ]
    },
    {
      "cell_type": "code",
      "execution_count": null,
      "metadata": {
        "id": "TX--d3k9-02c",
        "outputId": "b1c8368d-d733-46b2-94e2-cfb1b19dac02"
      },
      "outputs": [
        {
          "name": "stdout",
          "output_type": "stream",
          "text": [
            "O valor mais alto entre os três anos é: 26400.0\n",
            "O valor mais baixo entre os três anos é: 21800.0\n"
          ]
        }
      ],
      "source": [
        "preco_ano1 = float(input(\"Digite o valor médio do carro no primeiro ano: \"))\n",
        "preco_ano2 = float(input(\"Digite o valor médio do carro no segundo ano: \"))\n",
        "preco_ano3 = float(input(\"Digite o valor médio do carro no terceiro ano: \"))\n",
        "\n",
        "precos = [preco_ano1, preco_ano2, preco_ano3]\n",
        "\n",
        "valor_mais_alto = max(precos)\n",
        "valor_mais_baixo = min(precos)\n",
        "\n",
        "print(f\"O valor mais alto entre os três anos é: {valor_mais_alto}\")\n",
        "print(f\"O valor mais baixo entre os três anos é: {valor_mais_baixo}\")\n"
      ]
    },
    {
      "cell_type": "markdown",
      "metadata": {
        "id": "jY5tIwd-HQzc"
      },
      "source": [
        "#### Questão 5\n",
        "Escreva um programa que pergunte sobre o preço de três produtos e indique qual é o produto mais barato para comprar."
      ]
    },
    {
      "cell_type": "code",
      "execution_count": null,
      "metadata": {
        "id": "sYqNh9df-0gk",
        "outputId": "1ca3dc75-d995-422e-8cd3-a0dbdb80a8a7"
      },
      "outputs": [
        {
          "name": "stdout",
          "output_type": "stream",
          "text": [
            "O primeiro produto é o mais barato.\n"
          ]
        }
      ],
      "source": [
        "produto1 = float(input('Digite o preço do primeiro produto: '))\n",
        "produto2 = float(input('Digite o preço do segundo produto: '))\n",
        "produto3 = float(input('Digite o preço do terceiro produto: '))\n",
        "\n",
        "if produto1 < produto2 and produto1 < produto3:\n",
        "    print('O primeiro produto é o mais barato.')\n",
        "elif produto2 < produto1 and produto2 < produto3:\n",
        "    print('O segundo produto é o mais barato.')\n",
        "elif produto3 < produto1 and produto3 < produto2:\n",
        "    print('O terceiro produto é o mais barato.')\n",
        "elif produto1 == produto2 == produto3:\n",
        "    print('Os produtos possuem o mesmo preço.')\n",
        "else:\n",
        "    # Identificamos quais produtos possuem o mesmo preço, se for o caso\n",
        "    if produto1 == produto2:\n",
        "        print('O primeiro e o segundo produtos são os mais baratos.')\n",
        "    elif produto2 == produto3:\n",
        "        print('O segundo e terceiro produtos são os mais baratos.')\n",
        "    elif produto1 == produto3:\n",
        "        print('O primeiro e o terceiro produtos são os mais baratos.')"
      ]
    },
    {
      "cell_type": "markdown",
      "metadata": {
        "id": "inW3F-hAHS_X"
      },
      "source": [
        "#### Questão 7\n",
        "Escreva um programa que pergunte em qual turno a pessoa usuária estuda (\"manhã\", \"tarde\" ou \"noite\") e exiba a mensagem \"Bom Dia!\", \"Boa Tarde!\", \"Boa Noite!\", ou \"Valor Inválido!\", conforme o caso."
      ]
    },
    {
      "cell_type": "code",
      "execution_count": null,
      "metadata": {
        "id": "-_q-Pcr_-zth",
        "outputId": "e75d9a51-546b-41cc-8deb-e6e1b59c88a5"
      },
      "outputs": [
        {
          "name": "stdout",
          "output_type": "stream",
          "text": [
            "Boa Noite!\n"
          ]
        }
      ],
      "source": [
        "turno = input(\"Em qual turno você estuda? (manhã, tarde ou noite): \").lower() # aqui eu usei o metodo lower() para padronizar as entradas do usuário, especialmente quando é preciso comparar strings e garantir que a comparação não seja afetada por diferenças entre maiúsculas e minúsculas.\n",
        "\n",
        "if turno == 'manhã':\n",
        "    print('Bom Dia!')\n",
        "elif turno == 'tarde':\n",
        "    print('Boa Tarde!')\n",
        "elif turno == 'noite':\n",
        "    print('Boa Noite!')\n",
        "else:\n",
        "    print('Valor Inválido!')"
      ]
    },
    {
      "cell_type": "markdown",
      "metadata": {
        "id": "NCCPF3QqHTw-"
      },
      "source": [
        "#### Questão 8\n",
        "Escreva um programa que peça um número inteiro à pessoa usuária e determine se ele é par ou ímpar. Dica: Você pode utilizar o operador módulo `%`."
      ]
    },
    {
      "cell_type": "markdown",
      "metadata": {
        "id": "KblNOoiJ0lfG"
      },
      "source": [
        "##### Obs de Orlando Junior:\n",
        "\n",
        "######  %: Este é o operador módulo. Ele retorna o resto da divisão do primeiro número pelo segundo.\n",
        "######  2: É o número pelo qual você está dividindo, que neste caso é usado para verificar se um número é par.\n",
        "######  == 0: Isso verifica se o resultado do operador módulo é igual a zero.\n",
        "###### Quando você combina tudo isso, numero % 2 calcula o resto da divisão de numero por 2. Se o resto é 0, isso significa que numero é divisível por 2 sem deixar sobra, o que é a definição de um número par. Portanto, se numero % 2 == 0 for verdadeiro, numero é par. Se for falso, numero é ímpar."
      ]
    },
    {
      "cell_type": "code",
      "execution_count": null,
      "metadata": {
        "id": "OmZJt1nQ-3e6",
        "outputId": "a150c850-e73f-49b6-8b6f-ce3d8c912f8a"
      },
      "outputs": [
        {
          "name": "stdout",
          "output_type": "stream",
          "text": [
            "O número 184 é par.\n"
          ]
        }
      ],
      "source": [
        "numero = int(input(\"Digite um número inteiro: \"))\n",
        "\n",
        "if numero % 2 == 0:\n",
        "    print(f\"O número {numero} é par.\")\n",
        "else:\n",
        "    print(f\"O número {numero} é ímpar.\")\n"
      ]
    },
    {
      "cell_type": "markdown",
      "metadata": {
        "id": "h93Ck1tQHUwE"
      },
      "source": [
        "#### Questão 9\n",
        "Escreva um programa que peça um número à pessoa usuária e informe se ele é inteiro ou decimal."
      ]
    },
    {
      "cell_type": "code",
      "execution_count": null,
      "metadata": {
        "id": "sLMlZcx8-20N",
        "outputId": "c14c4498-1e27-4f4b-8b05-7ceaa64cd484"
      },
      "outputs": [
        {
          "name": "stdout",
          "output_type": "stream",
          "text": [
            "O número é inteiro.\n"
          ]
        }
      ],
      "source": [
        "numero = input(\"Digite um número: \")\n",
        "\n",
        "if '.' in numero: # essa condição verifica se o número contém um ponto decimal\n",
        "    print(\"O número é decimal.\")\n",
        "else:\n",
        "    print(\"O número é inteiro.\")\n"
      ]
    },
    {
      "cell_type": "markdown",
      "metadata": {
        "id": "bKdXSK1SH_pF"
      },
      "source": [
        "### Momento dos projetos"
      ]
    },
    {
      "cell_type": "markdown",
      "metadata": {
        "id": "WBlEyyzsHV86"
      },
      "source": [
        "#### Questão 10\n",
        "Um programa deve ser escrito para ler dois números e, em seguida, perguntar à pessoa usuária qual operação ele deseja realizar. O resultado da operação deve incluir informações sobre o número - se é par ou ímpar, positivo ou negativo e inteiro ou decimal."
      ]
    },
    {
      "cell_type": "code",
      "execution_count": null,
      "metadata": {
        "id": "GleqFzci0lfH",
        "outputId": "b967ed9a-34db-455a-8f60-db27232c9772"
      },
      "outputs": [
        {
          "name": "stdout",
          "output_type": "stream",
          "text": [
            "O resultado é decimal.\n",
            "O resultado é positivo.\n",
            "O resultado é ímpar.\n"
          ]
        }
      ],
      "source": [
        "num1 = float(input('Informe o primeiro número: '))\n",
        "num2 = float(input('Informe o segundo número: '))\n",
        "operacao = input('Informe a operação desejada (+, -, *, /): ')\n",
        "\n",
        "if operacao == '+':\n",
        "    resultado = num1 + num2\n",
        "elif operacao == '-':\n",
        "    resultado = num1 - num2\n",
        "elif operacao == '*':\n",
        "    resultado = num1 * num2\n",
        "elif operacao == '/':\n",
        "    resultado = num1 / num2\n",
        "else:\n",
        "    print('Operação inválida, resultado da operação será 0')\n",
        "    resultado = 0\n",
        "\n",
        "if resultado % 1 == 0:\n",
        "    print('O resultado é inteiro.')\n",
        "else:\n",
        "    print('O resultado é decimal.')\n",
        "\n",
        "if resultado > 0:\n",
        "    print('O resultado é positivo.')\n",
        "elif resultado == 0:\n",
        "    print('O resultado é neutro.')\n",
        "else:\n",
        "    print('O resultado é negativo.')\n",
        "\n",
        "if resultado % 2 == 0:\n",
        "    print('O resultado é par.')\n",
        "else:\n",
        "    print('O resultado é ímpar.')"
      ]
    },
    {
      "cell_type": "markdown",
      "metadata": {
        "id": "VdnlULxHHW19"
      },
      "source": [
        "#### Questão 11\n",
        "Escreva um programa que peça à pessoa usuária três números que representam os lados de um triângulo. O programa deve informar se os valores podem ser utilizados para formar um triângulo e, caso afirmativo, se ele é equilátero, isósceles ou escaleno. Tenha em mente algumas dicas:\n",
        "- Três lados formam um triângulo quando a soma de quaisquer dois lados for maior que o terceiro;\n",
        "- Triângulo Equilátero: três lados iguais;\n",
        "- Triângulo Isósceles: quaisquer dois lados iguais;\n",
        "- Triângulo Escaleno: três lados diferentes;\n"
      ]
    },
    {
      "cell_type": "code",
      "execution_count": null,
      "metadata": {
        "id": "0z73sqUO-2Pw",
        "outputId": "0a8180ae-01e9-4236-f53b-4a13fe16af73"
      },
      "outputs": [
        {
          "name": "stdout",
          "output_type": "stream",
          "text": [
            "Triângulo Isósceles\n"
          ]
        }
      ],
      "source": [
        "a = float(input(\"Digite o primeiro lado do triângulo: \"))\n",
        "b = float(input(\"Digite o segundo lado do triângulo: \"))\n",
        "c = float(input(\"Digite o terceiro lado do triângulo: \"))\n",
        "\n",
        "# Verifica se os lados formam um triângulo e determinar o tipo\n",
        "if a + b > c and a + c > b and b + c > a:\n",
        "    if a == b == c:\n",
        "        print(\"Triângulo Equilátero\")\n",
        "    elif a == b or a == c or b == c:\n",
        "        print(\"Triângulo Isósceles\")\n",
        "    else:\n",
        "        print(\"Triângulo Escaleno\")\n",
        "else:\n",
        "    print(\"Os valores informados não podem formar um triângulo.\")\n"
      ]
    },
    {
      "cell_type": "markdown",
      "metadata": {
        "id": "_PpEpOugHXwZ"
      },
      "source": [
        "#### Questão 12\n",
        "Um estabelecimento está vendendo combustíveis com descontos variados. Para o etanol, se a quantidade comprada for até 15 litros, o desconto será de 2% por litro. Caso contrário, será de 4% por litro. Para o diesel, se a quantidade comprada for até 15 litros, o desconto será de 3% por litro. Caso contrário, será de 5% por litro. O preço do litro de diesel é R\\$ 2,00 e o preço do litro de etanol é R\\$ 1,70. Escreva um programa que leia a quantidade de litros vendidos e o tipo de combustível (E para etanol e D para diesel) e calcule o valor a ser pago pelo cliente. Tenha em mente algumas dicas:\n",
        "\n",
        "- O do valor do desconto será a multiplicação entre preço do litro, quantidade de litros e o valor do desconto.\n",
        "- O valor a ser pago por um cliente será o resultado da multiplicação do preço do litro pela quantidade de litros menos o valor de desconto resultante do cálculo.\n"
      ]
    },
    {
      "cell_type": "code",
      "execution_count": null,
      "metadata": {
        "id": "9izoF-0O-1yD",
        "outputId": "d54ad9a3-cffa-42ea-d57b-4cb1e9b4fe75"
      },
      "outputs": [
        {
          "name": "stdout",
          "output_type": "stream",
          "text": [
            "O valor a ser pago pelo cliente é: R$ 26.11\n"
          ]
        }
      ],
      "source": [
        "preco_etanol = 1.70\n",
        "preco_diesel = 2.00\n",
        "\n",
        "litros_vendidos = float(input(\"Digite a quantidade de litros vendidos: \"))\n",
        "tipo_combustivel = input(\"Digite o tipo de combustível (E para etanol e D para diesel): \").upper()\n",
        "\n",
        "\n",
        "if tipo_combustivel == 'E':\n",
        "    desconto = 0.02 if litros_vendidos <= 15 else 0.04\n",
        "    valor_desconto = preco_etanol * litros_vendidos * desconto\n",
        "\n",
        "elif tipo_combustivel == 'D':\n",
        "    desconto = 0.03 if litros_vendidos <= 15 else 0.05\n",
        "    valor_desconto = preco_diesel * litros_vendidos * desconto\n",
        "else:\n",
        "    print(\"Tipo de combustível inválido.\")\n",
        "    valor_desconto = 0\n",
        "\n",
        "valor_a_pagar = (preco_etanol if tipo_combustivel == 'E' else preco_diesel) * litros_vendidos - valor_desconto\n",
        "\n",
        "\n",
        "print(f\"O valor a ser pago pelo cliente é: R$ {valor_a_pagar:.2f}\")\n",
        "\n"
      ]
    },
    {
      "cell_type": "markdown",
      "metadata": {
        "id": "s_XS_D1WHY2R"
      },
      "source": [
        "#### Questão 13\n",
        "Em uma empresa de venda de imóveis você precisa criar um código que analise os dados de vendas anuais para ajudar a diretoria na tomada de decisão. O código precisa coletar os dados de quantidade de venda durante os anos de 2022 e 2023 e fazer um cálculo de variação percentual. A partir do valor da variação, deve ser enviada às seguintes sugestões:\n",
        "- Para variação acima de 20%: bonificação para o time de vendas.\n",
        "- Para variação entre 2% e 20%: pequena bonificação para time de vendas.\n",
        "- Para variação entre 2% e -10%: planejamento de políticas de incentivo às vendas.\n",
        "- Para bonificações abaixo de -10%: corte de gastos.\n"
      ]
    },
    {
      "cell_type": "code",
      "execution_count": 1,
      "metadata": {
        "colab": {
          "base_uri": "https://localhost:8080/"
        },
        "id": "ICwMm6up0lfH",
        "outputId": "5cf40b2f-3487-4197-8e6a-0f7eb80645ee"
      },
      "outputs": [
        {
          "name": "stdout",
          "output_type": "stream",
          "text": [
            "Digite a quantidade de vendas em 2022: 158\n",
            "Digite a quantidade de vendas em 2023: 179\n",
            "Sugestão: Pequena bonificação para o time de vendas.\n",
            "Variação Percentual: 13.29%\n"
          ]
        }
      ],
      "source": [
        "vendas_2022 = float(input(\"Digite a quantidade de vendas em 2022: \"))\n",
        "vendas_2023 = float(input(\"Digite a quantidade de vendas em 2023: \"))\n",
        "\n",
        "variacao_percentual = ((vendas_2023 - vendas_2022) / vendas_2022) * 100\n",
        "\n",
        "if variacao_percentual > 20:\n",
        "    print(\"Sugestão: Bonificação para o time de vendas.\")\n",
        "elif 2 <= variacao_percentual <= 20:\n",
        "    print(\"Sugestão: Pequena bonificação para o time de vendas.\")\n",
        "elif -10 <= variacao_percentual < 2:\n",
        "    print(\"Sugestão: Planejamento de políticas de incentivo às vendas.\")\n",
        "else:\n",
        "    print(\"Sugestão: Corte de gastos.\")\n",
        "\n",
        "\n",
        "print(f\"Variação Percentual: {variacao_percentual:.2f}%\")\n"
      ]
    },
    {
      "cell_type": "markdown",
      "metadata": {
        "id": "AuaWh4-d2Itt"
      },
      "source": [
        "## Aula 4 - Estruturas de repetição"
      ]
    },
    {
      "cell_type": "markdown",
      "metadata": {
        "id": "6MSqU0sIJRdD"
      },
      "source": [
        "### Aquecendo na programação"
      ]
    },
    {
      "cell_type": "markdown",
      "metadata": {
        "id": "9eGGyCnAJRdQ"
      },
      "source": [
        "#### Questão 1\n",
        "Escreva um programa que peça dois números inteiros e imprima todos os números inteiros entre eles."
      ]
    },
    {
      "cell_type": "code",
      "execution_count": 9,
      "metadata": {
        "id": "ID1oc1hxJRdQ"
      },
      "outputs": [
        {
          "name": "stdout",
          "output_type": "stream",
          "text": [
            "16\n",
            "17\n",
            "18\n",
            "19\n",
            "20\n",
            "21\n",
            "22\n",
            "23\n",
            "24\n",
            "25\n",
            "26\n",
            "27\n",
            "28\n",
            "29\n",
            "30\n",
            "31\n",
            "32\n",
            "33\n",
            "34\n",
            "35\n",
            "36\n",
            "37\n",
            "38\n",
            "39\n",
            "40\n",
            "41\n",
            "42\n",
            "43\n",
            "44\n",
            "45\n",
            "46\n",
            "47\n",
            "48\n",
            "49\n",
            "50\n",
            "51\n",
            "52\n",
            "53\n",
            "54\n",
            "55\n",
            "56\n",
            "57\n",
            "58\n",
            "59\n",
            "60\n",
            "61\n",
            "62\n",
            "63\n",
            "64\n",
            "65\n",
            "66\n",
            "67\n",
            "68\n",
            "69\n",
            "70\n",
            "71\n",
            "72\n",
            "73\n",
            "74\n",
            "75\n",
            "76\n",
            "77\n",
            "78\n",
            "79\n",
            "80\n",
            "81\n",
            "82\n",
            "83\n",
            "84\n",
            "85\n",
            "86\n",
            "87\n"
          ]
        }
      ],
      "source": [
        "inicio = int(input('digite um numero inteiro: '))\n",
        "fim = int(input('digite outro numero inteiro: '))\n",
        "\n",
        "if inicio < fim:\n",
        "    for i in range(inicio + 1, fim):\n",
        "        print(i)\n",
        "elif inicio > fim:\n",
        "    for i in range(fim + 1, inicio):\n",
        "        print(i)\n",
        "else:\n",
        "    print('Os números são iguais.')"
      ]
    },
    {
      "cell_type": "markdown",
      "metadata": {
        "id": "mGonEHYCJRdR"
      },
      "source": [
        "#### Questão 2\n",
        "Escreva um programa para calcular quantos dias levará para a colônia de uma bactéria A ultrapassar ou igualar a colônia de uma bactéria B, com base nas taxas de crescimento de 3% e 1,5% respectivamente. Considere que a colônia A inicia com 4 elementos e a colônia B com 10 elementos."
      ]
    },
    {
      "cell_type": "code",
      "execution_count": 8,
      "metadata": {
        "id": "wM6FJuoqJRdR"
      },
      "outputs": [
        {
          "name": "stdout",
          "output_type": "stream",
          "text": [
            "Irá levar 63 dias para a colônia A ultrapassar a colônia B.\n"
          ]
        }
      ],
      "source": []
    },
    {
      "cell_type": "markdown",
      "metadata": {
        "id": "UiOZRlqoJRdR"
      },
      "source": [
        "#### Questão 3\n",
        "Para tratar uma quantidade de 15 dados de avaliações de pessoas usuárias de um serviço da empresa, precisamos verificar se as notas são válidas. Então, escreva um programa que vai receber a nota de 0 a 5 de todos os dados e verificar se é um valor válido. Caso seja inserido uma nota acima de 5 ou abaixo de 0, repita até que a pessoa usuária insira um valor válido."
      ]
    },
    {
      "cell_type": "code",
      "execution_count": null,
      "metadata": {
        "id": "3TUAhCxcJRdR"
      },
      "outputs": [],
      "source": []
    },
    {
      "cell_type": "markdown",
      "metadata": {
        "id": "ABv3KObGJRdR"
      },
      "source": [
        "#### Questão 4\n",
        "Desenvolva um programa que leia um conjunto indeterminado de temperaturas em Celsius e faça uma análise. Portanto, escreva um programa que leia temperaturas e informe a média delas. A leitura deve ser encerrada ao ser enviado o valor -273°C."
      ]
    },
    {
      "cell_type": "code",
      "execution_count": null,
      "metadata": {
        "id": "85tBBj5KJRdS"
      },
      "outputs": [],
      "source": []
    },
    {
      "cell_type": "markdown",
      "metadata": {
        "id": "IjkbAfGcJRdS"
      },
      "source": [
        "#### Questão 5\n",
        "Escreva um programa que calcule o fatorial de um número inteiro fornecido pela pessoa usuária. O fatorial de um número inteiro é a multiplicação desse número por todos os seus antecessores até o número 1. Por exemplo, o fatorial de 5 é 5 x 4 x 3 x 2 x 1 = 120."
      ]
    },
    {
      "cell_type": "code",
      "execution_count": null,
      "metadata": {
        "id": "7RTH8o0HJRdS"
      },
      "outputs": [],
      "source": []
    },
    {
      "cell_type": "markdown",
      "metadata": {
        "id": "oGNKuQjsJRdT"
      },
      "source": [
        "### Momento dos projetos"
      ]
    },
    {
      "cell_type": "markdown",
      "metadata": {
        "id": "ODxaTUYmJRdS"
      },
      "source": [
        "#### Questão 6\n",
        "Escreva um programa que gere a tabuada de um número inteiro de 1 a 10, de acordo com a escolha da pessoa usuária. Como exemplo, para o número 2, a tabuada deve ser mostrada no seguinte formato:\n",
        "```\n",
        "Tabuada do 2:\n",
        "2 x 1 = 2\n",
        "2 x 2 = 4\n",
        "[...]\n",
        "2 x 10 = 20\n",
        "```"
      ]
    },
    {
      "cell_type": "code",
      "execution_count": null,
      "metadata": {
        "id": "lkTlbxPIJRdS"
      },
      "outputs": [],
      "source": []
    },
    {
      "cell_type": "markdown",
      "metadata": {
        "id": "LeIbnt8VJRdS"
      },
      "source": [
        "#### Questão 7\n",
        "Os números primos possuem várias aplicações dentro da Ciência de Dados, por exemplo, na criptografia e segurança. Um número primo é aquele que é divisível apenas por um e por ele mesmo. Faça um programa que peça um número inteiro e determine se ele é ou não um número primo."
      ]
    },
    {
      "cell_type": "code",
      "execution_count": null,
      "metadata": {
        "id": "2rcNU7twJRdS"
      },
      "outputs": [],
      "source": []
    },
    {
      "cell_type": "markdown",
      "metadata": {
        "id": "QTwb6QaCJRdT"
      },
      "source": [
        "#### Questão 8\n",
        "Vamos entender a distribuição de idades de pensionistas de uma empresa de previdência. Escreva um programa que leia as idades de uma quantidade não informada de clientes e mostre a distribuição em intervalos de [0-25], [26-50], [51-75] e [76-100]. Encerre a entrada de dados com um número negativo."
      ]
    },
    {
      "cell_type": "code",
      "execution_count": null,
      "metadata": {
        "id": "4IAhaDmYJRdT"
      },
      "outputs": [],
      "source": []
    },
    {
      "cell_type": "markdown",
      "metadata": {
        "id": "soJCQVwRJRdT"
      },
      "source": [
        "#### Questão 9\n",
        "Em uma eleição para gerência em uma empresa com 20 funcionários, existem quatro candidatos. Escreva um programa que calcule o vencedor da eleição. A votação ocorreu da seguinte maneira:\n",
        "- Cada funcionário votou em um dos quatro candidatos (representados pelos números 1, 2, 3 e 4).\n",
        "- Também foram contabilizados os votos nulos (representado pelo número 5) e os votos em branco (representado pelo número 6).\n",
        "\n",
        "Ao final da votação, o programa deve exibir o total de votos para cada candidato, o número de votos nulos e o número de votos em branco. Além disso, deve calcular e exibir a porcentagem de votos nulos em relação ao total de votos e a porcentagem de votos em branco em relação ao total de votos."
      ]
    },
    {
      "cell_type": "code",
      "execution_count": null,
      "metadata": {
        "id": "041EFrgG-4gR"
      },
      "outputs": [],
      "source": []
    },
    {
      "cell_type": "markdown",
      "metadata": {
        "id": "eijHQiNU2IZ7"
      },
      "source": [
        "## Aula 5 - Estruturas de dados"
      ]
    },
    {
      "cell_type": "markdown",
      "metadata": {
        "id": "92F0bKtBMgd7"
      },
      "source": [
        "### Aquecendo na programação"
      ]
    },
    {
      "cell_type": "markdown",
      "metadata": {
        "id": "IypX2ANuMgeC"
      },
      "source": [
        "#### Questão 1\n",
        "Faça um programa que tenha a seguinte lista contendo os valores de gastos de uma empresa de papel `[2172.54, 3701.35, 3518.09, 3456.61, 3249.38, 2840.82, 3891.45, 3075.26, 2317.64, 3219.08]`. Com esses valores, faça um programa que calcule a média de gastos. Dica, use as funções built-in [`sum()`](https://docs.python.org/3/library/functions.html#sum) e [`len()`](https://docs.python.org/3/library/functions.html#len)."
      ]
    },
    {
      "cell_type": "code",
      "execution_count": null,
      "metadata": {
        "id": "ge3LuFhLMgeD"
      },
      "outputs": [],
      "source": []
    },
    {
      "cell_type": "markdown",
      "metadata": {
        "id": "xrOeLhQkMgeD"
      },
      "source": [
        "#### Questão 2\n",
        " Com os mesmos dados da questão anterior, defina quantas compras foram acima de 3000 reais e calcule a porcentagem quanto ao total de compras."
      ]
    },
    {
      "cell_type": "code",
      "execution_count": null,
      "metadata": {
        "id": "Ygu5TMZyMgeD"
      },
      "outputs": [],
      "source": []
    },
    {
      "cell_type": "markdown",
      "metadata": {
        "id": "JgCOrE_BMgeD"
      },
      "source": [
        "#### Questão 3\n",
        "Faça um código que colete em uma lista 5 números inteiros quaisquer e imprima a lista. Exemplo: `[1,4,7,2,4]`."
      ]
    },
    {
      "cell_type": "code",
      "execution_count": null,
      "metadata": {
        "id": "vtM9O1hLMgeD"
      },
      "outputs": [],
      "source": []
    },
    {
      "cell_type": "markdown",
      "metadata": {
        "id": "p3bTp88HMgeD"
      },
      "source": [
        "#### Questão 4\n",
        "Colete novamente 5 inteiros e imprima a lista em ordem inversa à enviada."
      ]
    },
    {
      "cell_type": "code",
      "execution_count": null,
      "metadata": {
        "id": "-CGwMIyHMgeD"
      },
      "outputs": [],
      "source": []
    },
    {
      "cell_type": "markdown",
      "metadata": {
        "id": "eIXd_z1lMgeD"
      },
      "source": [
        "#### Questão 5\n",
        "Faça um programa que, ao inserir um número qualquer, criará uma lista contendo todos os números primos entre 1 e o número digitado."
      ]
    },
    {
      "cell_type": "code",
      "execution_count": null,
      "metadata": {
        "id": "rj_6GHstMgeE"
      },
      "outputs": [],
      "source": []
    },
    {
      "cell_type": "markdown",
      "metadata": {
        "id": "zrbz3ENlMgeE"
      },
      "source": [
        "#### Questão 6\n",
        "Escreva um programa que peça uma data informando o dia, mês e ano e determine se ela é uma data válida para uma análise."
      ]
    },
    {
      "cell_type": "code",
      "execution_count": null,
      "metadata": {
        "id": "0eYA8UjTMgeE"
      },
      "outputs": [],
      "source": []
    },
    {
      "cell_type": "markdown",
      "metadata": {
        "id": "ut_4VHdGMgeE"
      },
      "source": [
        "### Momento dos projetos"
      ]
    },
    {
      "cell_type": "markdown",
      "metadata": {
        "id": "G86Z0vD_MgeE"
      },
      "source": [
        "#### Questão 7\n",
        "Para um estudo envolvendo o nível de multiplicação de bactérias em uma colônia, foi coletado o número de bactérias multiplicadas por dia, com base em um processo de duplicação diária e pode ser observado a seguir: `[1.2, 2.1, 3.3, 5.0, 7.8, 11.3, 16.6, 25.1, 37.8, 56.9]`. Tendo esses valores, faça um código que gere uma lista contendo o percentual de crescimento de bactérias por dia, comparando o número de bactérias em cada dia com o número de bactérias do dia anterior. Dica: para calcular o percentual de crescimento usamos a seguinte equação: `100 * (amostra_atual - amostra_passada) / (amostra_passada)`."
      ]
    },
    {
      "cell_type": "code",
      "execution_count": null,
      "metadata": {
        "id": "PXNO_CFkMgeE"
      },
      "outputs": [],
      "source": []
    },
    {
      "cell_type": "markdown",
      "metadata": {
        "id": "p4nxogpnMgeE"
      },
      "source": [
        "#### Questão 8\n",
        "Para uma seleção de produtos alimentícios, precisamos separar o conjunto de IDs dados por números inteiros, sabendo que os produtos com ID par são doces e os com ID ímpar são amargos. Monte um código que colete 10 IDs. Depois, calcule e mostre a quantidade de produtos doces e amargos."
      ]
    },
    {
      "cell_type": "code",
      "execution_count": null,
      "metadata": {
        "id": "WqjO2SZkMgeE"
      },
      "outputs": [],
      "source": []
    },
    {
      "cell_type": "markdown",
      "metadata": {
        "id": "t5OrLxV6MgeE"
      },
      "source": [
        "#### Questão 9\n",
        "Desenvolva um programa que informa a nota de um aluno de acordo com suas respostas. Ele deve pedir a resposta de um aluno para cada questão e é preciso verificar se a resposta foi igual ao gabarito. Cada questão vale um ponto e existem alternativas:  A, B, C ou D.\n",
        "```\n",
        "Gabarito da Prova:\n",
        "01 - D\n",
        "02 - A\n",
        "03 - C\n",
        "04 - B\n",
        "05 - A\n",
        "06 - D\n",
        "07 - C\n",
        "08 - C\n",
        "09 - A\n",
        "10 - B\n",
        "```"
      ]
    },
    {
      "cell_type": "code",
      "execution_count": null,
      "metadata": {
        "id": "ytIQDJrQMgeE"
      },
      "outputs": [],
      "source": []
    },
    {
      "cell_type": "markdown",
      "metadata": {
        "id": "aSBMzh-AMgeF"
      },
      "source": [
        "#### Questão 10\n",
        "Um instituto de meteorologia deseja fazer um estudo de temperatura média de cada mês do ano. Para isso, você precisa fazer um código que colete e armazene essas temperaturas médias em uma lista. Depois, calcule a média anual das temperaturas e mostre todas as temperaturas acima da média anual, e em que mês elas ocorreram, mostrando os meses por extenso: Janeiro, Fevereiro, etc."
      ]
    },
    {
      "cell_type": "code",
      "execution_count": null,
      "metadata": {
        "id": "ftj04s2uMgeF"
      },
      "outputs": [],
      "source": []
    },
    {
      "cell_type": "markdown",
      "metadata": {
        "id": "0X8S6s4jMgeF"
      },
      "source": [
        "#### Questão 11\n",
        "Uma empresa de e-commerce está interessada em analisar as vendas dos seus produtos. Os dados das vendas foram armazenados em um dicionário:\n",
        "```\n",
        "{'Produto A': 300, 'Produto B': 80, 'Produto C': 60,\n",
        " 'Produto D': 200, 'Produto E': 250, 'Produto F': 30}\n",
        "```\n",
        "Escreva um código que calcule o total de vendas e o produto mais vendido."
      ]
    },
    {
      "cell_type": "code",
      "execution_count": null,
      "metadata": {
        "id": "Xa3DJLtFMgeF"
      },
      "outputs": [],
      "source": []
    },
    {
      "cell_type": "markdown",
      "metadata": {
        "id": "nrEwf_1ZMgeF"
      },
      "source": [
        "#### Questão 12\n",
        "Uma pesquisa de mercado foi feita para decidir qual design de uma marca infantil mais agrada crianças. A pesquisa foi feita e o votos computados podem ser observados abaixo:\n",
        "```\n",
        "'''\n",
        "Tabela de votos da marca\n",
        "Design 1 - 1334 votos\n",
        "Design 2 - 982 votos\n",
        "Design 3 - 1751 votos\n",
        "Design 4 - 210 votos\n",
        "Design 5 - 1811 votos\n",
        "'''\n",
        "```\n",
        "Adapte os dados fornecidos a você para uma estrutura de dicionário e a partir dele, informe o design vencedor e a porcentagem de votos recebidos.\n"
      ]
    },
    {
      "cell_type": "code",
      "execution_count": null,
      "metadata": {
        "id": "MRPcGR-_MgeF"
      },
      "outputs": [],
      "source": []
    },
    {
      "cell_type": "markdown",
      "metadata": {
        "id": "HRTFFzKIMgeF"
      },
      "source": [
        "#### Questão 13\n",
        "Os funcionários de um setor da empresa que você trabalha vão receber um abono correspondente a 10% do seu salário devido ao ótimo desempenho do time. O setor financeiro solicitou sua ajuda para a verificação das consequências financeiras que esse abono irá gerar nos recursos. Assim, foi encaminhada para você uma lista com os salários que receberão o abono: `[1172, 1644, 2617, 5130, 5532, 6341, 6650, 7238, 7685, 7782, 7903]`. O abono de cada funcionário não pode ser inferior a 200. Em código, transforme cada um dos salários em chaves de um dicionário e o abono de cada salário no elemento. Depois, informe o total de gastos com o abono, quantos funcionários receberam o abono mínimo e qual o maior valor de abono fornecido.\n"
      ]
    },
    {
      "cell_type": "code",
      "execution_count": null,
      "metadata": {
        "id": "QsDSCua42bLB"
      },
      "outputs": [],
      "source": []
    },
    {
      "cell_type": "markdown",
      "metadata": {
        "id": "6dEXZEwjMlWy"
      },
      "source": [
        "#### Questão 14\n",
        "Uma equipe de cientistas de dados está estudando a diversidade biológica em uma floresta. A equipe fez a coleta de informações sobre o número de espécies de plantas e animais em cada área da floresta e armazenaram essas informações em um dicionário. Nele, a chave descreve a área dos dados e os valores nas listas correspondem às espécies de plantas e animais nas áreas, respectivamente.\n",
        "```\n",
        "{'Área Norte': [2819, 7236],\n",
        " 'Área Leste': [1440, 9492],\n",
        " 'Área Sul': [5969, 7496],\n",
        " 'Área Oeste': [14446, 49688],\n",
        " 'Área Centro': [22558, 45148]}\n",
        "```\n",
        "Escreva um código para calcular a média de espécies por área e identificar a área com a maior diversidade biológica. Dica: use as funções built-in [`sum()`](https://docs.python.org/3/library/functions.html#sum) e [`len()`](https://docs.python.org/3/library/functions.html#len).\n"
      ]
    },
    {
      "cell_type": "code",
      "execution_count": null,
      "metadata": {
        "id": "eQnOUDfYMlWy"
      },
      "outputs": [],
      "source": []
    },
    {
      "cell_type": "markdown",
      "metadata": {
        "id": "r0RW2Sy_MlWy"
      },
      "source": [
        "#### Questão 15\n",
        "O setor de RH da sua empresa te pediu uma ajuda para analisar as idades dos funcionários de 4 setores da empresa. Para isso, ele te forneceu os seguintes dados:\n",
        "```\n",
        "{'Setor A': [22, 26, 30, 30, 35, 38, 40, 56, 57, 65],\n",
        " 'Setor B': [22, 24, 26, 33, 41, 49, 50, 54, 60, 64],\n",
        " 'Setor C': [23, 26, 26, 29, 34, 35, 36, 41, 52, 56],\n",
        " 'Setor D': [19, 20, 25, 27, 34, 39, 42, 44, 50, 65]}\n",
        "```\n",
        "Sabendo que cada setor tem 10 funcionários, construa um código que calcule a média de idade de cada setor, a idade média geral entre todos os setores e quantas pessoas estão acima da idade média geral.\n"
      ]
    },
    {
      "cell_type": "code",
      "execution_count": null,
      "metadata": {
        "id": "wCiwyKP3MmTz"
      },
      "outputs": [],
      "source": []
    }
  ],
  "metadata": {
    "colab": {
      "include_colab_link": true,
      "provenance": [],
      "toc_visible": true
    },
    "kernelspec": {
      "display_name": "Python 3",
      "name": "python3"
    },
    "language_info": {
      "codemirror_mode": {
        "name": "ipython",
        "version": 3
      },
      "file_extension": ".py",
      "mimetype": "text/x-python",
      "name": "python",
      "nbconvert_exporter": "python",
      "pygments_lexer": "ipython3",
      "version": "3.12.3"
    }
  },
  "nbformat": 4,
  "nbformat_minor": 0
}
